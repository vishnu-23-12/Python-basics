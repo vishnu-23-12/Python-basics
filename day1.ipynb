{
 "cells": [
  {
   "cell_type": "code",
   "execution_count": 1,
   "id": "7d2c3603-9f5c-42d1-afb7-c06c73865649",
   "metadata": {},
   "outputs": [
    {
     "name": "stdout",
     "output_type": "stream",
     "text": [
      "{'Name': 'Vishnu', 'age': 20, 'city': 'vijayawada'}\n",
      "{'Name': 'Vishnu', 'age': 19, 'city': 'vijayawada', 'email': 'vishnu@gmail.com'}\n",
      "{'Name': 'Vishnu', 'age': 19, 'email': 'vishnu@gmail.com'}\n",
      "keys: dict_keys(['Name', 'age', 'email'])\n",
      "values: dict_values(['Vishnu', 19, 'vishnu@gmail.com'])\n",
      "Vishnu\n"
     ]
    }
   ],
   "source": [
    "#dictionary operations\n",
    "person={'Name':'Vishnu','age':20,'city':'vijayawada'}\n",
    "print(person)\n",
    "person['age']=19\n",
    "person['email']='vishnu@gmail.com'\n",
    "print(person)\n",
    "del person['city']\n",
    "print(person)\n",
    "print(\"keys:\",person.keys())\n",
    "print(\"values:\",person.values())\n",
    "print(person.get('Name'))"
   ]
  },
  {
   "cell_type": "code",
   "execution_count": null,
   "id": "7625c588-cbb3-461d-802b-adb54aa95a04",
   "metadata": {},
   "outputs": [],
   "source": []
  }
 ],
 "metadata": {
  "kernelspec": {
   "display_name": "Python 3 (ipykernel)",
   "language": "python",
   "name": "python3"
  },
  "language_info": {
   "codemirror_mode": {
    "name": "ipython",
    "version": 3
   },
   "file_extension": ".py",
   "mimetype": "text/x-python",
   "name": "python",
   "nbconvert_exporter": "python",
   "pygments_lexer": "ipython3",
   "version": "3.12.7"
  }
 },
 "nbformat": 4,
 "nbformat_minor": 5
}
